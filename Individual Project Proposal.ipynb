{
 "cells": [
  {
   "cell_type": "markdown",
   "id": "5d13419a",
   "metadata": {},
   "source": [
    "### PROPOSAL 1\n",
    "\n",
    "Research Question: Does the frequency of social interactions impact self-reported well-being?\n",
    "    Population parameter is essentially the association between frequency of soical interactions (this is the independent variable) and well-being of the person (dependent variable).\n",
    "    \n",
    "    Variables\n",
    "These are the frequency of social interactions on a weekly basis an self-reported well-being, basically how happy a person believes they are.\n",
    "I'm thinking of using either a scatter plot or bar chart. A scatter polt can illustrate the general trend between social interaction frequency and well-being. A bar chart can illustrate well-being over social interactoins frequency. If this is what is gravitated towards, there will be various categories for  social interaction frequencies such as on a daily, weekly, monthly basis. Both of these visualizations can spotlight trends if any between teh variables.\n",
    "\n",
    "    Analysis\n",
    "First will be data summarization by calculating the summary statistics, so the mean, median, and standard deviation for self-reported well-being. Once this data is collected, a 95% confidence interval will be constructed for well-being and frequency categories. This gives the audience a better feel for the range in which the true mean well-being score is in.\n",
    "\n",
    "    Hypothesis\n",
    "HO: There is no correlation between frequency of social interactions and a person's self-reported well-being levels.\n",
    "Ha: Higher frequency of social interactions correlates with a high level of self-reported well-being.\n",
    "\n",
    "The relevance is that if this is supported, it will reinfornce the idea that it is important to maintain frequenct social interactions to have a self-reported higher sense of well-being."
   ]
  },
  {
   "cell_type": "markdown",
   "id": "98347125",
   "metadata": {},
   "source": [
    "### PROPOSAL 2\n",
    "\n",
    "Research Question: Is there a noticeable difference between one's level of community engagement and their stress levels?\n",
    "\n",
    "    Variables\n",
    "\n",
    "These variables are community engagement level (independent variable) which is essentially how frequently the individual participates in community activities. This can include involvement in activities such as, volunterring and/or group events. The dependent variable is stress levels which are self-reported. \n",
    "We can use a histogram to capture the number of participants in different categories of involvement (low, medium, high - whcih can be classified for ex. by none a week, under 3 and over 3). We can also use a box plot to portray stress levels across these different community engagement categories just to ease the comparison process. Ultimately however, a line plot can easily illustrate the mean stress levels for the different community engagement categories and showing any trends if they exist.\n",
    "\n",
    "    Analysis\n",
    "\n",
    "Data summarization to computer the summary statistics (mean, median and standard deviation) across teh levels of community engagement. This should show how stress varies with engagement levels and if there are any correlations. We will then use independent sample t-testing to compare stress levels. (Important to note,  stress level scores are normally distributed in each group for the purpose of this test and the variances are the same). Then can calculate a 95% confidence interval for the mean of the stress levels from each group providing a range for the true mean stress level per group.\n",
    "\n",
    "    Hypothesis\n",
    "\n",
    "\n",
    "HO: There is no correlation between community engagement and an individual's self-reported stress levels.\n",
    "Ha: Higher levels of community engagement correlate with lower levels of self-reported stress levels.\n",
    "\n",
    "The relevance of the confidence intervals and hypothesis testing is that is can aid in verifying whether there are statistical differences between the stress levels."
   ]
  },
  {
   "cell_type": "markdown",
   "id": "e57a75b4",
   "metadata": {},
   "source": [
    "### PROPOSAL 3\n",
    "\n",
    "Research Question: Does the amount of in-person socialization vs. digital socialization have a impact on self-reported well-being?\n",
    "Population parameter is the relationship between the proportion of in-person interactions and well-being socres.\n",
    "\n",
    "    Variables\n",
    "\n",
    "The independant variable is the proportion of in-person socialization which essentially represents the percentage of social interactions that are in person (ranging from 0 to 10). The dependent variable is self-reported well-being which can also be represented on a scale from 0 to 10.\n",
    "Additional varibale representing the proportions of social interactions that are digital \n",
    "Then, I can make two scatter plot that can illustrate the relationship between the proportion of in-person interactions and well-being scores and the other for digital social interactoins and self-reported well-being, helping to visualize any trends. If the sample is too large however, I can break it down into the amount of in-person cial interactions someone has (low, medium, high) and will provide more specificities as to exactly what those measurements are if it comes down to making a box-plot.\n",
    "\n",
    "    Analysis\n",
    "    \n",
    "I plan to analyze using a multiple linear regression to interpret the relation between the proportion of in-person socialization and well-being scores and compare it against that of digital socialization and well-being scores. Regression coefficient indicates how much well-being scores are expected to increase or decrease for each percentage point where there is an increase in in-person social interations and/or digital interactions. \n",
    "Important to note is that I'm assuming a linear relationship between the variables which can be checked via the scatter plot too identify if there is a trend. Also, the differences between the observed and predicted well-being scores should be normally distributed, therefore having a constant variance.\n",
    "\n",
    "    Hypothesis\n",
    "    \n",
    "HO: There is no correlation between in-person socialization and well-being scores and digital socialization and well-being scores.\n",
    "Ha: There is a higher correlation between in-person socialization and higher well-being scores and a higher correlation between digital socialization and lower well-being scores.\n",
    "\n",
    "The relevance to the research question is that it shows the relationship each of this different types of social interactions have on an individuals self-reported well-being score. We can share the results with the public indicating what is healthy and not healthy for their well-being."
   ]
  },
  {
   "cell_type": "code",
   "execution_count": null,
   "id": "e86e05bb",
   "metadata": {},
   "outputs": [],
   "source": []
  }
 ],
 "metadata": {
  "kernelspec": {
   "display_name": "Python 3 (ipykernel)",
   "language": "python",
   "name": "python3"
  },
  "language_info": {
   "codemirror_mode": {
    "name": "ipython",
    "version": 3
   },
   "file_extension": ".py",
   "mimetype": "text/x-python",
   "name": "python",
   "nbconvert_exporter": "python",
   "pygments_lexer": "ipython3",
   "version": "3.11.6"
  }
 },
 "nbformat": 4,
 "nbformat_minor": 5
}
